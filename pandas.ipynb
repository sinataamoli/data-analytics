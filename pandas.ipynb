{
 "cells": [
  {
   "cell_type": "markdown",
   "id": "honey-dimension",
   "metadata": {},
   "source": [
    "## Pandas"
   ]
  },
  {
   "cell_type": "markdown",
   "id": "primary-europe",
   "metadata": {},
   "source": [
    "We are going to learn all about Pandas in this notebook! This is going to be a very interactive activity, where you will have to code a lot of this yourself! You can ask Sina or Rachel for help, ask your peers, look up your question online, or even ask ChatGPT!"
   ]
  },
  {
   "cell_type": "markdown",
   "id": "superior-effort",
   "metadata": {},
   "source": [
    "The first thing you are going to do is import Pandas"
   ]
  },
  {
   "cell_type": "code",
   "execution_count": null,
   "id": "boring-upgrade",
   "metadata": {},
   "outputs": [],
   "source": [
    "# import your pandas function here"
   ]
  },
  {
   "cell_type": "markdown",
   "id": "prerequisite-fighter",
   "metadata": {},
   "source": [
    "Now, create a dataframe called cereal and put in the dataframe called \"cereal.csv\""
   ]
  },
  {
   "cell_type": "code",
   "execution_count": null,
   "id": "sought-society",
   "metadata": {},
   "outputs": [],
   "source": [
    "cereal = ...\n",
    "cereal"
   ]
  },
  {
   "cell_type": "markdown",
   "id": "tracked-array",
   "metadata": {},
   "source": [
    "To look at the whole dataframe, we can just write \"cereal\"\n"
   ]
  },
  {
   "cell_type": "code",
   "execution_count": null,
   "id": "traditional-corpus",
   "metadata": {},
   "outputs": [],
   "source": [
    "cereal"
   ]
  },
  {
   "cell_type": "markdown",
   "id": "graduate-queen",
   "metadata": {},
   "source": [
    "To look at one column, you write \"cereal\" followed by brackets with the name of the column inside"
   ]
  },
  {
   "cell_type": "code",
   "execution_count": null,
   "id": "wireless-grammar",
   "metadata": {},
   "outputs": [],
   "source": [
    "cereal['name']"
   ]
  },
  {
   "cell_type": "markdown",
   "id": "variable-aircraft",
   "metadata": {},
   "source": [
    "In the cell below, display just the sodium column from the cereal table"
   ]
  },
  {
   "cell_type": "code",
   "execution_count": null,
   "id": "chicken-street",
   "metadata": {},
   "outputs": [],
   "source": []
  },
  {
   "cell_type": "markdown",
   "id": "quarterly-citation",
   "metadata": {},
   "source": [
    "You can also decide to look at a few columns. You just write \"cereal\" with a set of double brackets and the column names inside the middle brackets."
   ]
  },
  {
   "cell_type": "code",
   "execution_count": null,
   "id": "engaging-stick",
   "metadata": {},
   "outputs": [],
   "source": [
    "cereal[[\"name\", \"calories\", \"sodium\"]]"
   ]
  },
  {
   "cell_type": "markdown",
   "id": "herbal-canon",
   "metadata": {},
   "source": [
    "In the cell below, display the type, fat, and carb columns from the cereal table"
   ]
  },
  {
   "cell_type": "code",
   "execution_count": null,
   "id": "personal-cookbook",
   "metadata": {},
   "outputs": [],
   "source": []
  },
  {
   "cell_type": "markdown",
   "id": "flush-female",
   "metadata": {},
   "source": [
    "Looking at the dataframe, we can see that it is a dataframe about cereal. What does each row represent? "
   ]
  },
  {
   "cell_type": "markdown",
   "id": "proprietary-rochester",
   "metadata": {},
   "source": []
  },
  {
   "cell_type": "markdown",
   "id": "blank-thread",
   "metadata": {},
   "source": [
    "## Understanding the Dataframe"
   ]
  },
  {
   "cell_type": "markdown",
   "id": "responsible-biotechnology",
   "metadata": {},
   "source": [
    "Now let's try to understand our dataframe. "
   ]
  },
  {
   "cell_type": "code",
   "execution_count": null,
   "id": "downtown-mumbai",
   "metadata": {},
   "outputs": [],
   "source": [
    "# What is the shape of the dataframe? In other words, how many rows are there and how many columns?\n",
    "# hint: you can use the command .shape\n",
    "number_of_rows = ...\n",
    "number_of_columns = ...\n",
    "print(\"The dataframe has \", number_of_rows, \" rows and \", number_of_columns, \" columns\")"
   ]
  },
  {
   "cell_type": "markdown",
   "id": "attended-involvement",
   "metadata": {},
   "source": [
    "One of the columns is called \"mfr\" which actually means \"manufacturer.\" Look up how you can rename a column in pandas and change that column name from \"mfr\" to \"manufacturer\""
   ]
  },
  {
   "cell_type": "code",
   "execution_count": null,
   "id": "bacterial-average",
   "metadata": {},
   "outputs": [],
   "source": [
    "cereal = ..."
   ]
  },
  {
   "cell_type": "markdown",
   "id": "excess-observer",
   "metadata": {},
   "source": [
    "There is a weird column called \"Unnamed: 0\". It has no data that helps us and looks like it is just the index, but copied. Look up how to delete a column from a dataframe and delete that column in the cell below."
   ]
  },
  {
   "cell_type": "code",
   "execution_count": null,
   "id": "widespread-affiliate",
   "metadata": {},
   "outputs": [],
   "source": []
  },
  {
   "cell_type": "markdown",
   "id": "unlike-writer",
   "metadata": {},
   "source": [
    "Now lets look at our dataframe and the column types. "
   ]
  },
  {
   "cell_type": "markdown",
   "id": "victorian-arctic",
   "metadata": {},
   "source": [
    "In the cell below, use the pandas describe function to look at some statistics in our dataframe."
   ]
  },
  {
   "cell_type": "code",
   "execution_count": null,
   "id": "fossil-visibility",
   "metadata": {},
   "outputs": [],
   "source": []
  },
  {
   "cell_type": "markdown",
   "id": "stunning-circumstances",
   "metadata": {},
   "source": [
    "Are any columns that were in our original table not in the describe table in the cell above? If so, why do you think they are missing?"
   ]
  },
  {
   "cell_type": "markdown",
   "id": "casual-chick",
   "metadata": {},
   "source": []
  },
  {
   "cell_type": "markdown",
   "id": "beginning-duncan",
   "metadata": {},
   "source": [
    "## Manipulating the Data Frame"
   ]
  },
  {
   "cell_type": "markdown",
   "id": "fitted-package",
   "metadata": {},
   "source": [
    "One really helpful Pandas tool is filtering. We can use Python syntax to filter the datatable and choose the rows that we want. \n",
    "\n",
    "Let's do some practice with conditions first. Run through these cells and make sure they make sense to you"
   ]
  },
  {
   "cell_type": "code",
   "execution_count": 63,
   "id": "forbidden-stage",
   "metadata": {},
   "outputs": [
    {
     "data": {
      "text/plain": [
       "True"
      ]
     },
     "execution_count": 63,
     "metadata": {},
     "output_type": "execute_result"
    }
   ],
   "source": [
    "5 > 2"
   ]
  },
  {
   "cell_type": "code",
   "execution_count": 64,
   "id": "russian-hindu",
   "metadata": {},
   "outputs": [
    {
     "data": {
      "text/plain": [
       "True"
      ]
     },
     "execution_count": 64,
     "metadata": {},
     "output_type": "execute_result"
    }
   ],
   "source": [
    "100 - 50 == 50"
   ]
  },
  {
   "cell_type": "code",
   "execution_count": 65,
   "id": "discrete-criticism",
   "metadata": {},
   "outputs": [
    {
     "data": {
      "text/plain": [
       "False"
      ]
     },
     "execution_count": 65,
     "metadata": {},
     "output_type": "execute_result"
    }
   ],
   "source": [
    "2 -5 >0"
   ]
  },
  {
   "cell_type": "code",
   "execution_count": 66,
   "id": "positive-masters",
   "metadata": {},
   "outputs": [
    {
     "data": {
      "text/plain": [
       "True"
      ]
     },
     "execution_count": 66,
     "metadata": {},
     "output_type": "execute_result"
    }
   ],
   "source": [
    "max([2,34,56,0,-2]) > min([9, 10293, -2])"
   ]
  },
  {
   "cell_type": "markdown",
   "id": "prospective-understanding",
   "metadata": {},
   "source": [
    "Now let's try some filtering on your dataframe. Get only the rows that have more than 150 calories.\n",
    "\n",
    "Remember, the format is dataframe[dataframe['column name']== ....]"
   ]
  },
  {
   "cell_type": "code",
   "execution_count": null,
   "id": "prerequisite-thanksgiving",
   "metadata": {},
   "outputs": [],
   "source": []
  },
  {
   "cell_type": "markdown",
   "id": "stuck-despite",
   "metadata": {},
   "source": [
    "Get the rows that have lower rating than 25."
   ]
  },
  {
   "cell_type": "code",
   "execution_count": null,
   "id": "alive-gospel",
   "metadata": {},
   "outputs": [],
   "source": []
  },
  {
   "cell_type": "markdown",
   "id": "passive-nerve",
   "metadata": {},
   "source": [
    "Get the rows that are from the manufacturer \"Q\""
   ]
  },
  {
   "cell_type": "code",
   "execution_count": null,
   "id": "finished-background",
   "metadata": {},
   "outputs": [],
   "source": []
  },
  {
   "cell_type": "markdown",
   "id": "worldwide-request",
   "metadata": {},
   "source": [
    "Challenge: Get the rows that are under 90 calories and the number of vitamins is 25."
   ]
  },
  {
   "cell_type": "code",
   "execution_count": null,
   "id": "through-sailing",
   "metadata": {},
   "outputs": [],
   "source": []
  },
  {
   "cell_type": "markdown",
   "id": "statewide-hypothetical",
   "metadata": {},
   "source": [
    "Challenge: Get the rows where the cereal has type \"H\" or has a fat amount of 2."
   ]
  },
  {
   "cell_type": "code",
   "execution_count": null,
   "id": "willing-trainer",
   "metadata": {},
   "outputs": [],
   "source": []
  },
  {
   "cell_type": "markdown",
   "id": "finished-macedonia",
   "metadata": {},
   "source": [
    "## Math"
   ]
  },
  {
   "cell_type": "markdown",
   "id": "abroad-equipment",
   "metadata": {},
   "source": [
    "Let's use what you learned in the lesson to make some calculations. "
   ]
  },
  {
   "cell_type": "markdown",
   "id": "armed-tradition",
   "metadata": {},
   "source": [
    "Find the maximum, minimum, and median number of calories"
   ]
  },
  {
   "cell_type": "code",
   "execution_count": null,
   "id": "alive-evening",
   "metadata": {},
   "outputs": [],
   "source": [
    "max_calories = ...\n",
    "min_calories = ...\n",
    "median_calories = ...\n",
    "print(\"The maximum is \", max_calories)\n",
    "print(\"The minimum is \", max_calories)\n",
    "print(\"The median is \", max_calories)"
   ]
  },
  {
   "cell_type": "markdown",
   "id": "foster-buffalo",
   "metadata": {},
   "source": [
    "Find the maximum, minimum, and median number of vitamins"
   ]
  },
  {
   "cell_type": "code",
   "execution_count": null,
   "id": "enabling-difficulty",
   "metadata": {},
   "outputs": [],
   "source": [
    "max_vitamins = ...\n",
    "min_vitamins = ...\n",
    "median_vitamins = ...\n",
    "print(\"The maximum is \", max_vitamins)\n",
    "print(\"The minimum is \", max_vitamins)\n",
    "print(\"The median is \", max_vitamins)"
   ]
  },
  {
   "cell_type": "markdown",
   "id": "premier-webcam",
   "metadata": {},
   "source": [
    "Look up online how to find the most common value in a column and find the most common value in the manufacturer column."
   ]
  },
  {
   "cell_type": "code",
   "execution_count": null,
   "id": "instant-scoop",
   "metadata": {},
   "outputs": [],
   "source": []
  },
  {
   "cell_type": "markdown",
   "id": "medieval-slope",
   "metadata": {},
   "source": [
    "## Conclusion Activity"
   ]
  },
  {
   "cell_type": "markdown",
   "id": "talented-going",
   "metadata": {},
   "source": [
    "The last column has to do with nutritional ratings. Use some investigation skills and your pandas knowledge to find out what contributes to nutritional rating. This is open-ended."
   ]
  },
  {
   "cell_type": "code",
   "execution_count": null,
   "id": "vocational-arbor",
   "metadata": {},
   "outputs": [],
   "source": []
  },
  {
   "cell_type": "markdown",
   "id": "passive-cleaners",
   "metadata": {},
   "source": [
    "What did you find? Was anything surprising?"
   ]
  },
  {
   "cell_type": "markdown",
   "id": "noted-ghana",
   "metadata": {},
   "source": []
  },
  {
   "cell_type": "markdown",
   "id": "fantastic-penalty",
   "metadata": {},
   "source": [
    "Using what you know about food and nutrition, do some exploration into finding the \"best\" cereal. You should use filtering to find the cereal that matches all of your preferences. This is open-ended."
   ]
  },
  {
   "cell_type": "code",
   "execution_count": null,
   "id": "tired-tobago",
   "metadata": {},
   "outputs": [],
   "source": []
  },
  {
   "cell_type": "markdown",
   "id": "inside-eating",
   "metadata": {},
   "source": [
    "Which was the \"best cereal?\""
   ]
  },
  {
   "cell_type": "markdown",
   "id": "coated-berlin",
   "metadata": {},
   "source": []
  },
  {
   "cell_type": "markdown",
   "id": "fantastic-exception",
   "metadata": {},
   "source": [
    "What factors did you consider when coming up with this answer?"
   ]
  },
  {
   "cell_type": "markdown",
   "id": "american-semiconductor",
   "metadata": {},
   "source": []
  },
  {
   "cell_type": "markdown",
   "id": "crucial-palestinian",
   "metadata": {},
   "source": [
    "## If time allows!"
   ]
  },
  {
   "cell_type": "markdown",
   "id": "plastic-restoration",
   "metadata": {},
   "source": [
    "Another helpful pandas function is \"group by.\" Group by is a command that allows us to look at groups and understand the groups.\n",
    "\n",
    "Example: If we had a basketball dataset, we can group by the teams and see the teams' stats. \n",
    "\n",
    "Here is the syntax for a groupby: dataframe.groupby(\"column to group by\").agg(some function)"
   ]
  },
  {
   "cell_type": "markdown",
   "id": "coordinate-adapter",
   "metadata": {},
   "source": [
    "Here are some agg functions you can use: mean, count, median, first, last, ...\n",
    "\n",
    "Make sure you put them in quotes! ex. \"mean\""
   ]
  },
  {
   "cell_type": "markdown",
   "id": "greenhouse-platinum",
   "metadata": {},
   "source": [
    "Group by manufacturer and find the mean of all the columns."
   ]
  },
  {
   "cell_type": "code",
   "execution_count": null,
   "id": "favorite-orchestra",
   "metadata": {},
   "outputs": [],
   "source": []
  },
  {
   "cell_type": "markdown",
   "id": "equal-bracket",
   "metadata": {},
   "source": [
    "Which manufacturer has the hgihest average calories in their cereal?"
   ]
  },
  {
   "cell_type": "markdown",
   "id": "bearing-ballet",
   "metadata": {},
   "source": []
  },
  {
   "cell_type": "markdown",
   "id": "northern-complex",
   "metadata": {},
   "source": [
    "Which manufacturer has the highest average fiber in their cereal?"
   ]
  },
  {
   "cell_type": "markdown",
   "id": "exclusive-poison",
   "metadata": {},
   "source": []
  },
  {
   "cell_type": "markdown",
   "id": "herbal-permit",
   "metadata": {},
   "source": [
    "Which manufacturer has the lowest average rating in their cereal?"
   ]
  },
  {
   "cell_type": "markdown",
   "id": "neutral-interview",
   "metadata": {},
   "source": []
  },
  {
   "cell_type": "markdown",
   "id": "enabling-documentary",
   "metadata": {},
   "source": [
    "Now group by type and find the type of cereal (cold and hot). Use the median function. "
   ]
  },
  {
   "cell_type": "code",
   "execution_count": null,
   "id": "dying-survey",
   "metadata": {},
   "outputs": [],
   "source": []
  }
 ],
 "metadata": {
  "kernelspec": {
   "display_name": "Python 3",
   "language": "python",
   "name": "python3"
  },
  "language_info": {
   "codemirror_mode": {
    "name": "ipython",
    "version": 3
   },
   "file_extension": ".py",
   "mimetype": "text/x-python",
   "name": "python",
   "nbconvert_exporter": "python",
   "pygments_lexer": "ipython3",
   "version": "3.8.3"
  }
 },
 "nbformat": 4,
 "nbformat_minor": 5
}
