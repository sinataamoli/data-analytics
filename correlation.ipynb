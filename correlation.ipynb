{
 "cells": [
  {
   "cell_type": "markdown",
   "id": "duplicate-prefix",
   "metadata": {},
   "source": [
    "# Correlation"
   ]
  },
  {
   "cell_type": "markdown",
   "id": "first-market",
   "metadata": {},
   "source": [
    "## Getting our data"
   ]
  },
  {
   "cell_type": "markdown",
   "id": "processed-combat",
   "metadata": {},
   "source": [
    "### Importing Libraries"
   ]
  },
  {
   "cell_type": "code",
   "execution_count": 2,
   "id": "vocal-heavy",
   "metadata": {},
   "outputs": [],
   "source": [
    "import pandas as pd\n",
    "import matplotlib.pyplot as plt\n",
    "import seaborn as sns\n",
    "import numpy as np"
   ]
  },
  {
   "cell_type": "markdown",
   "id": "casual-oregon",
   "metadata": {},
   "source": [
    "### Getting Sleep and GPA Data"
   ]
  },
  {
   "cell_type": "markdown",
   "id": "associate-reducing",
   "metadata": {},
   "source": [
    "Get the sleep dataframe, it is called \"SleepStudy.csv\" and save it to the variable sleep_study"
   ]
  },
  {
   "cell_type": "code",
   "execution_count": 5,
   "id": "bizarre-scope",
   "metadata": {},
   "outputs": [
    {
     "data": {
      "text/html": [
       "<div>\n",
       "<style scoped>\n",
       "    .dataframe tbody tr th:only-of-type {\n",
       "        vertical-align: middle;\n",
       "    }\n",
       "\n",
       "    .dataframe tbody tr th {\n",
       "        vertical-align: top;\n",
       "    }\n",
       "\n",
       "    .dataframe thead th {\n",
       "        text-align: right;\n",
       "    }\n",
       "</style>\n",
       "<table border=\"1\" class=\"dataframe\">\n",
       "  <thead>\n",
       "    <tr style=\"text-align: right;\">\n",
       "      <th></th>\n",
       "      <th>Unnamed: 0</th>\n",
       "      <th>Gender</th>\n",
       "      <th>ClassYear</th>\n",
       "      <th>NumEarlyClass</th>\n",
       "      <th>EarlyClass</th>\n",
       "      <th>GPA</th>\n",
       "      <th>ClassesMissed</th>\n",
       "      <th>PoorSleepQuality</th>\n",
       "      <th>Stress</th>\n",
       "      <th>Happiness</th>\n",
       "      <th>WeekdayBed</th>\n",
       "      <th>WeekdayRise</th>\n",
       "      <th>WeekdaySleep</th>\n",
       "      <th>WeekendBed</th>\n",
       "      <th>WeekendRise</th>\n",
       "      <th>WeekendSleep</th>\n",
       "      <th>AverageSleep</th>\n",
       "      <th>AllNighter</th>\n",
       "    </tr>\n",
       "  </thead>\n",
       "  <tbody>\n",
       "    <tr>\n",
       "      <th>0</th>\n",
       "      <td>0</td>\n",
       "      <td>0</td>\n",
       "      <td>4</td>\n",
       "      <td>0</td>\n",
       "      <td>0</td>\n",
       "      <td>3.60</td>\n",
       "      <td>0</td>\n",
       "      <td>4</td>\n",
       "      <td>normal</td>\n",
       "      <td>28</td>\n",
       "      <td>25.75</td>\n",
       "      <td>8.70</td>\n",
       "      <td>7.70</td>\n",
       "      <td>25.75</td>\n",
       "      <td>9.50</td>\n",
       "      <td>5.88</td>\n",
       "      <td>7.18</td>\n",
       "      <td>0</td>\n",
       "    </tr>\n",
       "    <tr>\n",
       "      <th>1</th>\n",
       "      <td>1</td>\n",
       "      <td>0</td>\n",
       "      <td>4</td>\n",
       "      <td>2</td>\n",
       "      <td>1</td>\n",
       "      <td>3.24</td>\n",
       "      <td>0</td>\n",
       "      <td>6</td>\n",
       "      <td>normal</td>\n",
       "      <td>25</td>\n",
       "      <td>25.70</td>\n",
       "      <td>8.20</td>\n",
       "      <td>6.80</td>\n",
       "      <td>26.00</td>\n",
       "      <td>10.00</td>\n",
       "      <td>7.25</td>\n",
       "      <td>6.93</td>\n",
       "      <td>0</td>\n",
       "    </tr>\n",
       "    <tr>\n",
       "      <th>2</th>\n",
       "      <td>2</td>\n",
       "      <td>0</td>\n",
       "      <td>4</td>\n",
       "      <td>0</td>\n",
       "      <td>0</td>\n",
       "      <td>2.97</td>\n",
       "      <td>12</td>\n",
       "      <td>18</td>\n",
       "      <td>normal</td>\n",
       "      <td>17</td>\n",
       "      <td>27.44</td>\n",
       "      <td>6.55</td>\n",
       "      <td>3.00</td>\n",
       "      <td>28.00</td>\n",
       "      <td>12.59</td>\n",
       "      <td>10.09</td>\n",
       "      <td>5.02</td>\n",
       "      <td>0</td>\n",
       "    </tr>\n",
       "    <tr>\n",
       "      <th>3</th>\n",
       "      <td>3</td>\n",
       "      <td>0</td>\n",
       "      <td>1</td>\n",
       "      <td>5</td>\n",
       "      <td>1</td>\n",
       "      <td>3.76</td>\n",
       "      <td>0</td>\n",
       "      <td>9</td>\n",
       "      <td>normal</td>\n",
       "      <td>32</td>\n",
       "      <td>23.50</td>\n",
       "      <td>7.17</td>\n",
       "      <td>6.77</td>\n",
       "      <td>27.00</td>\n",
       "      <td>8.00</td>\n",
       "      <td>7.25</td>\n",
       "      <td>6.90</td>\n",
       "      <td>0</td>\n",
       "    </tr>\n",
       "    <tr>\n",
       "      <th>4</th>\n",
       "      <td>4</td>\n",
       "      <td>0</td>\n",
       "      <td>4</td>\n",
       "      <td>0</td>\n",
       "      <td>0</td>\n",
       "      <td>3.20</td>\n",
       "      <td>4</td>\n",
       "      <td>9</td>\n",
       "      <td>normal</td>\n",
       "      <td>15</td>\n",
       "      <td>25.90</td>\n",
       "      <td>8.67</td>\n",
       "      <td>6.09</td>\n",
       "      <td>23.75</td>\n",
       "      <td>9.50</td>\n",
       "      <td>7.00</td>\n",
       "      <td>6.35</td>\n",
       "      <td>0</td>\n",
       "    </tr>\n",
       "    <tr>\n",
       "      <th>...</th>\n",
       "      <td>...</td>\n",
       "      <td>...</td>\n",
       "      <td>...</td>\n",
       "      <td>...</td>\n",
       "      <td>...</td>\n",
       "      <td>...</td>\n",
       "      <td>...</td>\n",
       "      <td>...</td>\n",
       "      <td>...</td>\n",
       "      <td>...</td>\n",
       "      <td>...</td>\n",
       "      <td>...</td>\n",
       "      <td>...</td>\n",
       "      <td>...</td>\n",
       "      <td>...</td>\n",
       "      <td>...</td>\n",
       "      <td>...</td>\n",
       "      <td>...</td>\n",
       "    </tr>\n",
       "    <tr>\n",
       "      <th>248</th>\n",
       "      <td>248</td>\n",
       "      <td>1</td>\n",
       "      <td>3</td>\n",
       "      <td>0</td>\n",
       "      <td>0</td>\n",
       "      <td>3.35</td>\n",
       "      <td>7</td>\n",
       "      <td>11</td>\n",
       "      <td>high</td>\n",
       "      <td>16</td>\n",
       "      <td>26.75</td>\n",
       "      <td>9.42</td>\n",
       "      <td>6.77</td>\n",
       "      <td>24.50</td>\n",
       "      <td>10.50</td>\n",
       "      <td>9.50</td>\n",
       "      <td>7.55</td>\n",
       "      <td>1</td>\n",
       "    </tr>\n",
       "    <tr>\n",
       "      <th>249</th>\n",
       "      <td>249</td>\n",
       "      <td>0</td>\n",
       "      <td>1</td>\n",
       "      <td>2</td>\n",
       "      <td>1</td>\n",
       "      <td>3.00</td>\n",
       "      <td>1</td>\n",
       "      <td>9</td>\n",
       "      <td>normal</td>\n",
       "      <td>20</td>\n",
       "      <td>23.60</td>\n",
       "      <td>8.63</td>\n",
       "      <td>9.03</td>\n",
       "      <td>24.50</td>\n",
       "      <td>10.00</td>\n",
       "      <td>9.50</td>\n",
       "      <td>9.17</td>\n",
       "      <td>0</td>\n",
       "    </tr>\n",
       "    <tr>\n",
       "      <th>250</th>\n",
       "      <td>250</td>\n",
       "      <td>0</td>\n",
       "      <td>3</td>\n",
       "      <td>2</td>\n",
       "      <td>1</td>\n",
       "      <td>3.50</td>\n",
       "      <td>1</td>\n",
       "      <td>2</td>\n",
       "      <td>normal</td>\n",
       "      <td>35</td>\n",
       "      <td>24.45</td>\n",
       "      <td>8.25</td>\n",
       "      <td>7.80</td>\n",
       "      <td>25.00</td>\n",
       "      <td>9.75</td>\n",
       "      <td>8.75</td>\n",
       "      <td>8.07</td>\n",
       "      <td>0</td>\n",
       "    </tr>\n",
       "    <tr>\n",
       "      <th>251</th>\n",
       "      <td>251</td>\n",
       "      <td>1</td>\n",
       "      <td>2</td>\n",
       "      <td>2</td>\n",
       "      <td>1</td>\n",
       "      <td>2.60</td>\n",
       "      <td>0</td>\n",
       "      <td>5</td>\n",
       "      <td>normal</td>\n",
       "      <td>31</td>\n",
       "      <td>24.38</td>\n",
       "      <td>9.20</td>\n",
       "      <td>8.97</td>\n",
       "      <td>26.00</td>\n",
       "      <td>9.88</td>\n",
       "      <td>7.50</td>\n",
       "      <td>8.55</td>\n",
       "      <td>0</td>\n",
       "    </tr>\n",
       "    <tr>\n",
       "      <th>252</th>\n",
       "      <td>252</td>\n",
       "      <td>1</td>\n",
       "      <td>2</td>\n",
       "      <td>5</td>\n",
       "      <td>1</td>\n",
       "      <td>2.50</td>\n",
       "      <td>3</td>\n",
       "      <td>3</td>\n",
       "      <td>normal</td>\n",
       "      <td>32</td>\n",
       "      <td>23.35</td>\n",
       "      <td>7.75</td>\n",
       "      <td>8.40</td>\n",
       "      <td>25.00</td>\n",
       "      <td>10.88</td>\n",
       "      <td>9.88</td>\n",
       "      <td>8.82</td>\n",
       "      <td>0</td>\n",
       "    </tr>\n",
       "  </tbody>\n",
       "</table>\n",
       "<p>253 rows × 18 columns</p>\n",
       "</div>"
      ],
      "text/plain": [
       "     Unnamed: 0  Gender  ClassYear  NumEarlyClass  EarlyClass   GPA  \\\n",
       "0             0       0          4              0           0  3.60   \n",
       "1             1       0          4              2           1  3.24   \n",
       "2             2       0          4              0           0  2.97   \n",
       "3             3       0          1              5           1  3.76   \n",
       "4             4       0          4              0           0  3.20   \n",
       "..          ...     ...        ...            ...         ...   ...   \n",
       "248         248       1          3              0           0  3.35   \n",
       "249         249       0          1              2           1  3.00   \n",
       "250         250       0          3              2           1  3.50   \n",
       "251         251       1          2              2           1  2.60   \n",
       "252         252       1          2              5           1  2.50   \n",
       "\n",
       "     ClassesMissed  PoorSleepQuality  Stress  Happiness  WeekdayBed  \\\n",
       "0                0                 4  normal         28       25.75   \n",
       "1                0                 6  normal         25       25.70   \n",
       "2               12                18  normal         17       27.44   \n",
       "3                0                 9  normal         32       23.50   \n",
       "4                4                 9  normal         15       25.90   \n",
       "..             ...               ...     ...        ...         ...   \n",
       "248              7                11    high         16       26.75   \n",
       "249              1                 9  normal         20       23.60   \n",
       "250              1                 2  normal         35       24.45   \n",
       "251              0                 5  normal         31       24.38   \n",
       "252              3                 3  normal         32       23.35   \n",
       "\n",
       "     WeekdayRise  WeekdaySleep  WeekendBed  WeekendRise  WeekendSleep  \\\n",
       "0           8.70          7.70       25.75         9.50          5.88   \n",
       "1           8.20          6.80       26.00        10.00          7.25   \n",
       "2           6.55          3.00       28.00        12.59         10.09   \n",
       "3           7.17          6.77       27.00         8.00          7.25   \n",
       "4           8.67          6.09       23.75         9.50          7.00   \n",
       "..           ...           ...         ...          ...           ...   \n",
       "248         9.42          6.77       24.50        10.50          9.50   \n",
       "249         8.63          9.03       24.50        10.00          9.50   \n",
       "250         8.25          7.80       25.00         9.75          8.75   \n",
       "251         9.20          8.97       26.00         9.88          7.50   \n",
       "252         7.75          8.40       25.00        10.88          9.88   \n",
       "\n",
       "     AverageSleep  AllNighter  \n",
       "0            7.18           0  \n",
       "1            6.93           0  \n",
       "2            5.02           0  \n",
       "3            6.90           0  \n",
       "4            6.35           0  \n",
       "..            ...         ...  \n",
       "248          7.55           1  \n",
       "249          9.17           0  \n",
       "250          8.07           0  \n",
       "251          8.55           0  \n",
       "252          8.82           0  \n",
       "\n",
       "[253 rows x 18 columns]"
      ]
     },
     "execution_count": 5,
     "metadata": {},
     "output_type": "execute_result"
    }
   ],
   "source": [
    "sleep_study = ..."
   ]
  },
  {
   "cell_type": "code",
   "execution_count": 6,
   "id": "postal-movie",
   "metadata": {},
   "outputs": [
    {
     "data": {
      "text/html": [
       "<div>\n",
       "<style scoped>\n",
       "    .dataframe tbody tr th:only-of-type {\n",
       "        vertical-align: middle;\n",
       "    }\n",
       "\n",
       "    .dataframe tbody tr th {\n",
       "        vertical-align: top;\n",
       "    }\n",
       "\n",
       "    .dataframe thead th {\n",
       "        text-align: right;\n",
       "    }\n",
       "</style>\n",
       "<table border=\"1\" class=\"dataframe\">\n",
       "  <thead>\n",
       "    <tr style=\"text-align: right;\">\n",
       "      <th></th>\n",
       "      <th>Gender</th>\n",
       "      <th>ClassYear</th>\n",
       "      <th>NumEarlyClass</th>\n",
       "      <th>EarlyClass</th>\n",
       "      <th>GPA</th>\n",
       "      <th>ClassesMissed</th>\n",
       "      <th>PoorSleepQuality</th>\n",
       "      <th>Happiness</th>\n",
       "      <th>WeekdayBed</th>\n",
       "      <th>WeekdayRise</th>\n",
       "      <th>WeekdaySleep</th>\n",
       "      <th>WeekendBed</th>\n",
       "      <th>WeekendRise</th>\n",
       "      <th>WeekendSleep</th>\n",
       "      <th>AverageSleep</th>\n",
       "      <th>AllNighter</th>\n",
       "      <th>High Stress</th>\n",
       "      <th>Normal Stress</th>\n",
       "    </tr>\n",
       "  </thead>\n",
       "  <tbody>\n",
       "    <tr>\n",
       "      <th>0</th>\n",
       "      <td>0</td>\n",
       "      <td>4</td>\n",
       "      <td>0</td>\n",
       "      <td>0</td>\n",
       "      <td>3.60</td>\n",
       "      <td>0</td>\n",
       "      <td>4</td>\n",
       "      <td>28</td>\n",
       "      <td>25.75</td>\n",
       "      <td>8.70</td>\n",
       "      <td>7.70</td>\n",
       "      <td>25.75</td>\n",
       "      <td>9.50</td>\n",
       "      <td>5.88</td>\n",
       "      <td>7.18</td>\n",
       "      <td>0</td>\n",
       "      <td>0</td>\n",
       "      <td>1</td>\n",
       "    </tr>\n",
       "    <tr>\n",
       "      <th>1</th>\n",
       "      <td>0</td>\n",
       "      <td>4</td>\n",
       "      <td>2</td>\n",
       "      <td>1</td>\n",
       "      <td>3.24</td>\n",
       "      <td>0</td>\n",
       "      <td>6</td>\n",
       "      <td>25</td>\n",
       "      <td>25.70</td>\n",
       "      <td>8.20</td>\n",
       "      <td>6.80</td>\n",
       "      <td>26.00</td>\n",
       "      <td>10.00</td>\n",
       "      <td>7.25</td>\n",
       "      <td>6.93</td>\n",
       "      <td>0</td>\n",
       "      <td>0</td>\n",
       "      <td>1</td>\n",
       "    </tr>\n",
       "    <tr>\n",
       "      <th>2</th>\n",
       "      <td>0</td>\n",
       "      <td>4</td>\n",
       "      <td>0</td>\n",
       "      <td>0</td>\n",
       "      <td>2.97</td>\n",
       "      <td>12</td>\n",
       "      <td>18</td>\n",
       "      <td>17</td>\n",
       "      <td>27.44</td>\n",
       "      <td>6.55</td>\n",
       "      <td>3.00</td>\n",
       "      <td>28.00</td>\n",
       "      <td>12.59</td>\n",
       "      <td>10.09</td>\n",
       "      <td>5.02</td>\n",
       "      <td>0</td>\n",
       "      <td>0</td>\n",
       "      <td>1</td>\n",
       "    </tr>\n",
       "    <tr>\n",
       "      <th>3</th>\n",
       "      <td>0</td>\n",
       "      <td>1</td>\n",
       "      <td>5</td>\n",
       "      <td>1</td>\n",
       "      <td>3.76</td>\n",
       "      <td>0</td>\n",
       "      <td>9</td>\n",
       "      <td>32</td>\n",
       "      <td>23.50</td>\n",
       "      <td>7.17</td>\n",
       "      <td>6.77</td>\n",
       "      <td>27.00</td>\n",
       "      <td>8.00</td>\n",
       "      <td>7.25</td>\n",
       "      <td>6.90</td>\n",
       "      <td>0</td>\n",
       "      <td>0</td>\n",
       "      <td>1</td>\n",
       "    </tr>\n",
       "    <tr>\n",
       "      <th>4</th>\n",
       "      <td>0</td>\n",
       "      <td>4</td>\n",
       "      <td>0</td>\n",
       "      <td>0</td>\n",
       "      <td>3.20</td>\n",
       "      <td>4</td>\n",
       "      <td>9</td>\n",
       "      <td>15</td>\n",
       "      <td>25.90</td>\n",
       "      <td>8.67</td>\n",
       "      <td>6.09</td>\n",
       "      <td>23.75</td>\n",
       "      <td>9.50</td>\n",
       "      <td>7.00</td>\n",
       "      <td>6.35</td>\n",
       "      <td>0</td>\n",
       "      <td>0</td>\n",
       "      <td>1</td>\n",
       "    </tr>\n",
       "    <tr>\n",
       "      <th>...</th>\n",
       "      <td>...</td>\n",
       "      <td>...</td>\n",
       "      <td>...</td>\n",
       "      <td>...</td>\n",
       "      <td>...</td>\n",
       "      <td>...</td>\n",
       "      <td>...</td>\n",
       "      <td>...</td>\n",
       "      <td>...</td>\n",
       "      <td>...</td>\n",
       "      <td>...</td>\n",
       "      <td>...</td>\n",
       "      <td>...</td>\n",
       "      <td>...</td>\n",
       "      <td>...</td>\n",
       "      <td>...</td>\n",
       "      <td>...</td>\n",
       "      <td>...</td>\n",
       "    </tr>\n",
       "    <tr>\n",
       "      <th>248</th>\n",
       "      <td>1</td>\n",
       "      <td>3</td>\n",
       "      <td>0</td>\n",
       "      <td>0</td>\n",
       "      <td>3.35</td>\n",
       "      <td>7</td>\n",
       "      <td>11</td>\n",
       "      <td>16</td>\n",
       "      <td>26.75</td>\n",
       "      <td>9.42</td>\n",
       "      <td>6.77</td>\n",
       "      <td>24.50</td>\n",
       "      <td>10.50</td>\n",
       "      <td>9.50</td>\n",
       "      <td>7.55</td>\n",
       "      <td>1</td>\n",
       "      <td>1</td>\n",
       "      <td>0</td>\n",
       "    </tr>\n",
       "    <tr>\n",
       "      <th>249</th>\n",
       "      <td>0</td>\n",
       "      <td>1</td>\n",
       "      <td>2</td>\n",
       "      <td>1</td>\n",
       "      <td>3.00</td>\n",
       "      <td>1</td>\n",
       "      <td>9</td>\n",
       "      <td>20</td>\n",
       "      <td>23.60</td>\n",
       "      <td>8.63</td>\n",
       "      <td>9.03</td>\n",
       "      <td>24.50</td>\n",
       "      <td>10.00</td>\n",
       "      <td>9.50</td>\n",
       "      <td>9.17</td>\n",
       "      <td>0</td>\n",
       "      <td>0</td>\n",
       "      <td>1</td>\n",
       "    </tr>\n",
       "    <tr>\n",
       "      <th>250</th>\n",
       "      <td>0</td>\n",
       "      <td>3</td>\n",
       "      <td>2</td>\n",
       "      <td>1</td>\n",
       "      <td>3.50</td>\n",
       "      <td>1</td>\n",
       "      <td>2</td>\n",
       "      <td>35</td>\n",
       "      <td>24.45</td>\n",
       "      <td>8.25</td>\n",
       "      <td>7.80</td>\n",
       "      <td>25.00</td>\n",
       "      <td>9.75</td>\n",
       "      <td>8.75</td>\n",
       "      <td>8.07</td>\n",
       "      <td>0</td>\n",
       "      <td>0</td>\n",
       "      <td>1</td>\n",
       "    </tr>\n",
       "    <tr>\n",
       "      <th>251</th>\n",
       "      <td>1</td>\n",
       "      <td>2</td>\n",
       "      <td>2</td>\n",
       "      <td>1</td>\n",
       "      <td>2.60</td>\n",
       "      <td>0</td>\n",
       "      <td>5</td>\n",
       "      <td>31</td>\n",
       "      <td>24.38</td>\n",
       "      <td>9.20</td>\n",
       "      <td>8.97</td>\n",
       "      <td>26.00</td>\n",
       "      <td>9.88</td>\n",
       "      <td>7.50</td>\n",
       "      <td>8.55</td>\n",
       "      <td>0</td>\n",
       "      <td>0</td>\n",
       "      <td>1</td>\n",
       "    </tr>\n",
       "    <tr>\n",
       "      <th>252</th>\n",
       "      <td>1</td>\n",
       "      <td>2</td>\n",
       "      <td>5</td>\n",
       "      <td>1</td>\n",
       "      <td>2.50</td>\n",
       "      <td>3</td>\n",
       "      <td>3</td>\n",
       "      <td>32</td>\n",
       "      <td>23.35</td>\n",
       "      <td>7.75</td>\n",
       "      <td>8.40</td>\n",
       "      <td>25.00</td>\n",
       "      <td>10.88</td>\n",
       "      <td>9.88</td>\n",
       "      <td>8.82</td>\n",
       "      <td>0</td>\n",
       "      <td>0</td>\n",
       "      <td>1</td>\n",
       "    </tr>\n",
       "  </tbody>\n",
       "</table>\n",
       "<p>253 rows × 18 columns</p>\n",
       "</div>"
      ],
      "text/plain": [
       "     Gender  ClassYear  NumEarlyClass  EarlyClass   GPA  ClassesMissed  \\\n",
       "0         0          4              0           0  3.60              0   \n",
       "1         0          4              2           1  3.24              0   \n",
       "2         0          4              0           0  2.97             12   \n",
       "3         0          1              5           1  3.76              0   \n",
       "4         0          4              0           0  3.20              4   \n",
       "..      ...        ...            ...         ...   ...            ...   \n",
       "248       1          3              0           0  3.35              7   \n",
       "249       0          1              2           1  3.00              1   \n",
       "250       0          3              2           1  3.50              1   \n",
       "251       1          2              2           1  2.60              0   \n",
       "252       1          2              5           1  2.50              3   \n",
       "\n",
       "     PoorSleepQuality  Happiness  WeekdayBed  WeekdayRise  WeekdaySleep  \\\n",
       "0                   4         28       25.75         8.70          7.70   \n",
       "1                   6         25       25.70         8.20          6.80   \n",
       "2                  18         17       27.44         6.55          3.00   \n",
       "3                   9         32       23.50         7.17          6.77   \n",
       "4                   9         15       25.90         8.67          6.09   \n",
       "..                ...        ...         ...          ...           ...   \n",
       "248                11         16       26.75         9.42          6.77   \n",
       "249                 9         20       23.60         8.63          9.03   \n",
       "250                 2         35       24.45         8.25          7.80   \n",
       "251                 5         31       24.38         9.20          8.97   \n",
       "252                 3         32       23.35         7.75          8.40   \n",
       "\n",
       "     WeekendBed  WeekendRise  WeekendSleep  AverageSleep  AllNighter  \\\n",
       "0         25.75         9.50          5.88          7.18           0   \n",
       "1         26.00        10.00          7.25          6.93           0   \n",
       "2         28.00        12.59         10.09          5.02           0   \n",
       "3         27.00         8.00          7.25          6.90           0   \n",
       "4         23.75         9.50          7.00          6.35           0   \n",
       "..          ...          ...           ...           ...         ...   \n",
       "248       24.50        10.50          9.50          7.55           1   \n",
       "249       24.50        10.00          9.50          9.17           0   \n",
       "250       25.00         9.75          8.75          8.07           0   \n",
       "251       26.00         9.88          7.50          8.55           0   \n",
       "252       25.00        10.88          9.88          8.82           0   \n",
       "\n",
       "     High Stress  Normal Stress  \n",
       "0              0              1  \n",
       "1              0              1  \n",
       "2              0              1  \n",
       "3              0              1  \n",
       "4              0              1  \n",
       "..           ...            ...  \n",
       "248            1              0  \n",
       "249            0              1  \n",
       "250            0              1  \n",
       "251            0              1  \n",
       "252            0              1  \n",
       "\n",
       "[253 rows x 18 columns]"
      ]
     },
     "execution_count": 6,
     "metadata": {},
     "output_type": "execute_result"
    }
   ],
   "source": [
    "sleep_study = pd.concat([sleep_study, pd.get_dummies(sleep_study[\"Stress\"]).rename(columns={\"high\": \"High Stress\", \"normal\": \"Normal Stress\"})], axis=1).drop(columns=[\"Stress\"]).drop(columns=[\"Unnamed: 0\"])\n",
    "sleep_study"
   ]
  },
  {
   "cell_type": "markdown",
   "id": "elegant-oregon",
   "metadata": {},
   "source": [
    "## Data Exploration"
   ]
  },
  {
   "cell_type": "markdown",
   "id": "compatible-assessment",
   "metadata": {},
   "source": [
    "Let's use our pandas skills to understand the dataframe. Use the pandas describe function in the cell below."
   ]
  },
  {
   "cell_type": "code",
   "execution_count": null,
   "id": "anonymous-nudist",
   "metadata": {},
   "outputs": [],
   "source": []
  },
  {
   "cell_type": "markdown",
   "id": "funny-parcel",
   "metadata": {},
   "source": [
    "Filter the dataframe to get only rows where GPA is greater than 3.85."
   ]
  },
  {
   "cell_type": "code",
   "execution_count": null,
   "id": "latter-confusion",
   "metadata": {},
   "outputs": [],
   "source": []
  },
  {
   "cell_type": "markdown",
   "id": "checked-holder",
   "metadata": {},
   "source": [
    "Filter the dataframe to get only rows with class year being 2."
   ]
  },
  {
   "cell_type": "code",
   "execution_count": null,
   "id": "alternate-theme",
   "metadata": {},
   "outputs": [],
   "source": []
  },
  {
   "cell_type": "markdown",
   "id": "underlying-nature",
   "metadata": {},
   "source": [
    "Filter the dataframe to find people who had an average sleep under 7 and high stress is true (1)."
   ]
  },
  {
   "cell_type": "code",
   "execution_count": null,
   "id": "prepared-hungarian",
   "metadata": {},
   "outputs": [],
   "source": []
  },
  {
   "cell_type": "markdown",
   "id": "dynamic-discrimination",
   "metadata": {},
   "source": [
    "### Scatter Plots"
   ]
  },
  {
   "cell_type": "markdown",
   "id": "registered-wrapping",
   "metadata": {},
   "source": [
    "Below, you can see a scatter plot comparing the relationship between what time the person goes to bed on a weekday and what time they wake up on a weekday."
   ]
  },
  {
   "cell_type": "code",
   "execution_count": 106,
   "id": "boring-ambassador",
   "metadata": {},
   "outputs": [
    {
     "data": {
      "image/png": "[encoded data removed]",
      "text/plain": [
       "<Figure size 432x288 with 1 Axes>"
      ]
     },
     "metadata": {
      "needs_background": "light"
     },
     "output_type": "display_data"
    }
   ],
   "source": [
    "plt.scatter(sleep_study[\"WeekdayBed\"], sleep_study[\"WeekdayRise\"])\n",
    "plt.xlabel(\"Weekday Bed Time\")\n",
    "plt.ylabel(\"Weekday Wake Up Time\");"
   ]
  },
  {
   "cell_type": "markdown",
   "id": "resident-startup",
   "metadata": {},
   "source": [
    "As the person goes to bed later, what happens to the time they wake up?"
   ]
  },
  {
   "cell_type": "markdown",
   "id": "later-bulletin",
   "metadata": {},
   "source": []
  },
  {
   "cell_type": "markdown",
   "id": "alternate-ancient",
   "metadata": {},
   "source": [
    "Make a scatter plot of some other variables in the table! For example, you can look at a scatter plot comparing GPA and number of classes missed!"
   ]
  },
  {
   "cell_type": "code",
   "execution_count": null,
   "id": "polar-tower",
   "metadata": {},
   "outputs": [],
   "source": []
  },
  {
   "cell_type": "markdown",
   "id": "mature-occurrence",
   "metadata": {},
   "source": [
    "### Correlations Between Variables"
   ]
  },
  {
   "cell_type": "markdown",
   "id": "offensive-procurement",
   "metadata": {},
   "source": [
    "There are many functions in Python that make coding easier for us! One of the things is that there is a built in function .corr that calculates for correlation for us! In the example below, we will see that using the formula for correlation and the Python correlation function yield the same result!\n",
    "\n",
    "We will be calculating the correlation between classes missed and GPA"
   ]
  },
  {
   "cell_type": "markdown",
   "id": "chronic-habitat",
   "metadata": {},
   "source": [
    "Using the Python .corr() function:"
   ]
  },
  {
   "cell_type": "code",
   "execution_count": 93,
   "id": "embedded-russian",
   "metadata": {},
   "outputs": [
    {
     "data": {
      "text/plain": [
       "-0.18154"
      ]
     },
     "execution_count": 93,
     "metadata": {},
     "output_type": "execute_result"
    }
   ],
   "source": [
    "round(sleep_study[sleep_study.columns[1:]].corr()['ClassesMissed'][:-1][\"GPA\"],5)"
   ]
  },
  {
   "cell_type": "markdown",
   "id": "completed-weekly",
   "metadata": {},
   "source": [
    "Try and use the formula on the slide to calculate the correlation. You should get the same answer. In the cell below I put some start code."
   ]
  },
  {
   "cell_type": "code",
   "execution_count": 108,
   "id": "hydraulic-breach",
   "metadata": {},
   "outputs": [],
   "source": [
    "x_values = ...\n",
    "y_values = ...\n",
    "x_mean = sum(...)/len(...)\n",
    "y_mean = sum(...)/len(...)\n",
    "numerator = sum((... - ...) * (... - ...))\n",
    "denominator = np.sqrt(sum((... - ...)**2)*sum((... - ...)**2))\n",
    "round(numerator/denominator, 5)"
   ]
  },
  {
   "cell_type": "markdown",
   "id": "headed-sacrifice",
   "metadata": {},
   "source": [
    "The chart below shows the correlations between all of the variables. Look at the legend to understand the chart."
   ]
  },
  {
   "cell_type": "code",
   "execution_count": 95,
   "id": "occasional-maker",
   "metadata": {},
   "outputs": [
    {
     "name": "stderr",
     "output_type": "stream",
     "text": [
      "<ipython-input-95-6f497342d512>:3: DeprecationWarning: `np.bool` is a deprecated alias for the builtin `bool`. To silence this warning, use `bool` by itself. Doing this will not modify any behavior and is safe. If you specifically wanted the numpy scalar type, use `np.bool_` here.\n",
      "Deprecated in NumPy 1.20; for more details and guidance: https://numpy.org/devdocs/release/1.20.0-notes.html#deprecations\n",
      "  sleep_study_corr = sleep_study_corr.where(np.tril(np.ones(sleep_study_corr.shape)).astype(np.bool))\n"
     ]
    },
    {
     "data": {
      "text/plain": [
       "<AxesSubplot:>"
      ]
     },
     "execution_count": 95,
     "metadata": {},
     "output_type": "execute_result"
    },
    {
     "data": {
      "image/png": "[encoded data removed]",
      "text/plain": [
       "<Figure size 432x288 with 2 Axes>"
      ]
     },
     "metadata": {
      "needs_background": "light"
     },
     "output_type": "display_data"
    }
   ],
   "source": [
    "sleep_study_corr = sleep_study.corr(method='pearson') \n",
    "np.fill_diagonal(sleep_study_corr.values, np.nan)\n",
    "sleep_study_corr = sleep_study_corr.where(np.tril(np.ones(sleep_study_corr.shape)).astype(np.bool))\n",
    "sns.heatmap(sleep_study_corr,cmap=\"Spectral\")"
   ]
  },
  {
   "cell_type": "markdown",
   "id": "impressed-insert",
   "metadata": {},
   "source": [
    "## Answer the questions below."
   ]
  },
  {
   "cell_type": "markdown",
   "id": "parental-patio",
   "metadata": {},
   "source": [
    "Does anything in the chart surprise you? Were there variables you thought would be correlated but were not?"
   ]
  },
  {
   "cell_type": "markdown",
   "id": "ready-intranet",
   "metadata": {},
   "source": []
  },
  {
   "cell_type": "markdown",
   "id": "irish-asset",
   "metadata": {},
   "source": [
    "Which variables are the most positively correlated?"
   ]
  },
  {
   "cell_type": "markdown",
   "id": "mediterranean-conspiracy",
   "metadata": {},
   "source": []
  },
  {
   "cell_type": "markdown",
   "id": "injured-device",
   "metadata": {},
   "source": [
    "Which variables are the most negatively correlated?"
   ]
  },
  {
   "cell_type": "markdown",
   "id": "sharp-physics",
   "metadata": {},
   "source": []
  },
  {
   "cell_type": "markdown",
   "id": "located-protest",
   "metadata": {},
   "source": [
    "Which variables do you think would be the most helpful in determing student GPA?"
   ]
  },
  {
   "cell_type": "markdown",
   "id": "higher-extra",
   "metadata": {},
   "source": []
  },
  {
   "cell_type": "markdown",
   "id": "gross-mention",
   "metadata": {},
   "source": [
    "## Correlations between GPA and the Other Features"
   ]
  },
  {
   "cell_type": "markdown",
   "id": "casual-prison",
   "metadata": {},
   "source": [
    "The chart below shows the correlations between GPA and other features in the table. Use the chart to answer the questions about the relationships between these variables."
   ]
  },
  {
   "cell_type": "code",
   "execution_count": 54,
   "id": "molecular-minutes",
   "metadata": {},
   "outputs": [
    {
     "data": {
      "text/plain": [
       "<AxesSubplot:xlabel='Variables'>"
      ]
     },
     "execution_count": 54,
     "metadata": {},
     "output_type": "execute_result"
    },
    {
     "data": {
      "image/png": "[encoded data removed]",
      "text/plain": [
       "<Figure size 432x288 with 1 Axes>"
      ]
     },
     "metadata": {
      "needs_background": "light"
     },
     "output_type": "display_data"
    }
   ],
   "source": [
    "gpa_corr = sleep_study[sleep_study.columns[1:]].corr()['GPA'][:-1].to_frame().reset_index().rename(columns={\"index\": \"Variables\"})\n",
    "gpa_corr = gpa_corr.drop([3])\n",
    "gpa_corr = gpa_corr.reindex(gpa_corr.GPA.abs().sort_values(ascending=False).index)\n",
    "gpa_corr.plot.bar(x='Variables', y='GPA', rot=90)"
   ]
  },
  {
   "cell_type": "markdown",
   "id": "important-cowboy",
   "metadata": {},
   "source": [
    "## Answer the questions below."
   ]
  },
  {
   "cell_type": "markdown",
   "id": "atomic-language",
   "metadata": {},
   "source": [
    "Are you suprised which variables are most correlated with GPA? Why?"
   ]
  },
  {
   "cell_type": "markdown",
   "id": "prescribed-undergraduate",
   "metadata": {},
   "source": []
  },
  {
   "cell_type": "markdown",
   "id": "impaired-fishing",
   "metadata": {},
   "source": [
    "Are you suprised which variables are least correlated with GPA? Why?"
   ]
  },
  {
   "cell_type": "markdown",
   "id": "special-textbook",
   "metadata": {},
   "source": []
  },
  {
   "cell_type": "markdown",
   "id": "naval-handling",
   "metadata": {},
   "source": [
    "Which other variables (not in the data) do you think would help predict student GPA?"
   ]
  },
  {
   "cell_type": "markdown",
   "id": "animal-amino",
   "metadata": {},
   "source": []
  },
  {
   "cell_type": "markdown",
   "id": "prescribed-peripheral",
   "metadata": {},
   "source": [
    "## Just for fun, here is the same data, but instead looking at the correlations between Happiness and the Other Features"
   ]
  },
  {
   "cell_type": "code",
   "execution_count": 107,
   "id": "metallic-climb",
   "metadata": {},
   "outputs": [
    {
     "data": {
      "image/png": "[encoded data removed]",
      "text/plain": [
       "<Figure size 432x288 with 1 Axes>"
      ]
     },
     "metadata": {
      "needs_background": "light"
     },
     "output_type": "display_data"
    }
   ],
   "source": [
    "happy_corr = sleep_study[sleep_study.columns[1:]].corr()['Happiness'][:-1].to_frame().reset_index().rename(columns={\"index\": \"Variables\"})\n",
    "happy_corr = happy_corr.drop([6])\n",
    "happy_corr = happy_corr.reindex(gpa_corr.Happiness.abs().sort_values(ascending=False).index)\n",
    "happy_corr.plot.bar(x='Variables', y='Happiness', rot=90);"
   ]
  },
  {
   "cell_type": "markdown",
   "id": "decent-weapon",
   "metadata": {},
   "source": [
    "## Analysis"
   ]
  },
  {
   "cell_type": "code",
   "execution_count": 2,
   "id": "chronic-farmer",
   "metadata": {},
   "outputs": [],
   "source": [
    "import pandas as pd\n",
    "sleep = pd.read_csv(\"SleepStudy.csv\")"
   ]
  },
  {
   "cell_type": "markdown",
   "id": "fifty-council",
   "metadata": {},
   "source": [
    "Find the average GPA in the sleep dataframe."
   ]
  },
  {
   "cell_type": "code",
   "execution_count": 6,
   "id": "critical-tunisia",
   "metadata": {},
   "outputs": [],
   "source": [
    "average = sleep[\"GPA\"].mean()"
   ]
  },
  {
   "cell_type": "markdown",
   "id": "continuous-twist",
   "metadata": {},
   "source": [
    "Use online resources to find out how to create a new column in a dataframe. Add a column to the dataframe that is True or False (boolean) column indicating if the person has a GPA above the avergae GPA or a GPA lower than the average GPA."
   ]
  },
  {
   "cell_type": "code",
   "execution_count": 7,
   "id": "molecular-integral",
   "metadata": {},
   "outputs": [],
   "source": []
  },
  {
   "cell_type": "markdown",
   "id": "contemporary-mirror",
   "metadata": {},
   "source": [
    "Now that you have this new column, you can use it to filter the entire dataset. Try to see if you can find any notable differences between the two groups. "
   ]
  },
  {
   "cell_type": "code",
   "execution_count": null,
   "id": "supposed-revision",
   "metadata": {},
   "outputs": [],
   "source": []
  },
  {
   "cell_type": "markdown",
   "id": "numerical-waterproof",
   "metadata": {},
   "source": [
    "What differences did you find? What similarities did you find?"
   ]
  },
  {
   "cell_type": "markdown",
   "id": "comfortable-wages",
   "metadata": {},
   "source": []
  }
 ],
 "metadata": {
  "kernelspec": {
   "display_name": "Python 3",
   "language": "python",
   "name": "python3"
  },
  "language_info": {
   "codemirror_mode": {
    "name": "ipython",
    "version": 3
   },
   "file_extension": ".py",
   "mimetype": "text/x-python",
   "name": "python",
   "nbconvert_exporter": "python",
   "pygments_lexer": "ipython3",
   "version": "3.8.3"
  }
 },
 "nbformat": 4,
 "nbformat_minor": 5
}
